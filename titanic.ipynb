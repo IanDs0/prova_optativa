{
 "cells": [
  {
   "cell_type": "code",
   "execution_count": 24,
   "metadata": {},
   "outputs": [
    {
     "name": "stdout",
     "output_type": "stream",
     "text": [
      "     BilheteId  Sobrevive  Classe_P  \\\n",
      "845        846          0         3   \n",
      "746        747          0         3   \n",
      "279        280          1         3   \n",
      "308        309          0         2   \n",
      "874        875          1         2   \n",
      "365        366          0         3   \n",
      "401        402          0         3   \n",
      "40          41          0         3   \n",
      "855        856          1         3   \n",
      "207        208          1         3   \n",
      "\n",
      "                                               Nome       Sexo  Idade  \\\n",
      "845                             Abbing, Mr. Anthony  masculino   42.0   \n",
      "746                     Abbott, Mr. Rossmore Edward  masculino   16.0   \n",
      "279                Abbott, Mrs. Stanton (Rosa Hunt)   FEMININO   35.0   \n",
      "308                             Abelson, Mr. Samuel  masculino   30.0   \n",
      "874           Abelson, Mrs. Samuel (Hannah Wizosky)   FEMININO   28.0   \n",
      "365                  Adahl, Mr. Mauritz Nils Martin  masculino   30.0   \n",
      "401                                 Adams, Mr. John  masculino   26.0   \n",
      "40   Ahlin, Mrs. Johan (Johanna Persdotter Larsson)   FEMININO   40.0   \n",
      "855                      Aks, Mrs. Sam (Leah Rosen)   FEMININO   18.0   \n",
      "207                     Albimona, Mr. Nassef Cassem  masculino   26.0   \n",
      "\n",
      "      Tarifa Cabine Embacou Sobrevivente  \n",
      "845   7.5500    NaN       S          Não  \n",
      "746  20.2500    NaN       S          Não  \n",
      "279  20.2500    NaN       S          Sim  \n",
      "308  24.0000    NaN       C          Não  \n",
      "874  24.0000    NaN       C          Sim  \n",
      "365   7.2500    NaN       S          Não  \n",
      "401   8.0500    NaN       S          Não  \n",
      "40    9.4750    NaN       S          Não  \n",
      "855   9.3500    NaN       S          Sim  \n",
      "207  18.7875    NaN       C          Sim  \n",
      "Classe_P\n",
      "1    216\n",
      "2    184\n",
      "3    491\n",
      "Name: Sobrevive, dtype: int64\n"
     ]
    }
   ],
   "source": [
    "import pandas as pd\n",
    "import matplotlib.pyplot as plt\n",
    "\n",
    "titanic = pd.read_csv('./titanic.csv')\n",
    "\n",
    "#print(titanic.head(10))#printa os 10 primeiros\n",
    "\n",
    "titanic.sort_values(by=['Name'], ascending=True, inplace=True)#ordena\n",
    "\n",
    "#print(titanic.head(10))#printa ordenado\n",
    "\n",
    "titanic['Sobrevivente']= titanic['Survived'].map({1:'Sim', 0:'Não'})#cria uma nova coluna colocando se morreu ou não com sim ou não\n",
    "\n",
    "#print(titanic.head(10))#printa com a coluna extra\n",
    "\n",
    "titanic = titanic.drop(columns=['SibSp', 'Parch', 'Ticket'])#remove \"SibSp\", \"Parch\", \"Ticket\"\n",
    "\n",
    "#print(titanic.head(10))#printa sem as colunas \"SibSp\", \"Parch\", \"Ticket\"\n",
    "\n",
    "titanic = titanic.rename(columns={\"Name\":\"Nome\", \"PassengerId\":\"BilheteId\", \"Survived\":\"Sobrevive\", \"Pclass\":\"Classe_P\", \"Sex\":\"Sexo\", \"Age\":\"Idade\", \"Fare\":\"Tarifa\", \"Cabin\":\"Cabine\", \"Embarked\":\"Embacou\"})#troca os nomes das colunas em ingles para portugues\n",
    "\n",
    "#print(titanic.head(10))#printa com as colunas com nome trocado\n",
    "\n",
    "titanic['Sexo'] = titanic['Sexo'].replace(['male','female'],['masculino','FEMININO'])#altera os valors male e flame das colunas\n",
    "\n",
    "#print(titanic.head(10))#printa com a tradução dos sexos\n",
    "\n",
    "sobrevivente_class = titanic.groupby(['Classe_P','Sobrevivente'])['Sobrevive'].count()#agrpa classe por sobrevivente\n",
    "\n",
    "print(sobrevivente_class.head(10))#printa o numero de sobreviventes por classe\n",
    "\n",
    "sobrevivente_sexo = titanic.groupby(['Sexo','Sobrevivente'])['Sexo'].count()#agrupa sexo com sobrevivente\n",
    "\n",
    "print(sobrevivente_sexo.head(10))#printa o numero de sobrevidentes por sexo\n",
    "\n",
    "sobrevivente_class.plot(kind = 'pie')#monta o gráfico em pizza\n",
    "plt.show()\n",
    "\n",
    "titanic.to_excel('titanic.xlsx',index = None, header=True)#convertendo csv para o arquivo xlsx\n"
   ]
  }
 ],
 "metadata": {
  "interpreter": {
   "hash": "e7370f93d1d0cde622a1f8e1c04877d8463912d04d973331ad4851f04de6915a"
  },
  "kernelspec": {
   "display_name": "Python 3.9.7 64-bit",
   "language": "python",
   "name": "python3"
  },
  "language_info": {
   "codemirror_mode": {
    "name": "ipython",
    "version": 3
   },
   "file_extension": ".py",
   "mimetype": "text/x-python",
   "name": "python",
   "nbconvert_exporter": "python",
   "pygments_lexer": "ipython3",
   "version": "3.9.9"
  },
  "orig_nbformat": 4
 },
 "nbformat": 4,
 "nbformat_minor": 2
}
