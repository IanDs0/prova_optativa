{
 "cells": [
  {
   "cell_type": "code",
   "execution_count": 1,
   "metadata": {},
   "outputs": [
    {
     "name": "stdout",
     "output_type": "stream",
     "text": [
      "Classe_P  Sobrevivente\n",
      "1         Não              80\n",
      "          Sim             136\n",
      "2         Não              97\n",
      "          Sim              87\n",
      "3         Não             372\n",
      "          Sim             119\n",
      "Name: Sobrevive, dtype: int64\n",
      "Sexo       Sobrevivente\n",
      "FEMININO   Não              81\n",
      "           Sim             233\n",
      "masculino  Não             468\n",
      "           Sim             109\n",
      "Name: Sexo, dtype: int64\n"
     ]
    },
    {
     "data": {
      "image/png": "[encoded data removed]",
      "text/plain": [
       "<Figure size 432x288 with 1 Axes>"
      ]
     },
     "metadata": {},
     "output_type": "display_data"
    }
   ],
   "source": [
    "import pandas as pd\n",
    "import matplotlib.pyplot as plt\n",
    "\n",
    "titanic = pd.read_csv('./titanic.csv')\n",
    "\n",
    "print(titanic.head(10))#printa os 10 primeiros\n",
    "\n",
    "titanic.sort_values(by=['Name'], ascending=True, inplace=True)#ordena\n",
    "\n",
    "print(titanic.head(10))#printa ordenado\n",
    "\n",
    "titanic['Sobrevivente']= titanic['Survived'].map({1:'Sim', 0:'Não'})#cria uma nova coluna colocando se morreu ou não com sim ou não\n",
    "\n",
    "print(titanic.head(10))#printa com a coluna extra\n",
    "\n",
    "titanic = titanic.drop(columns=['SibSp', 'Parch', 'Ticket'])#remove \"SibSp\", \"Parch\", \"Ticket\"\n",
    "\n",
    "print(titanic.head(10))#printa sem as colunas \"SibSp\", \"Parch\", \"Ticket\"\n",
    "\n",
    "titanic = titanic.rename(columns={\"Name\":\"Nome\", \"PassengerId\":\"BilheteId\", \"Survived\":\"Sobrevive\", \"Pclass\":\"Classe_P\", \"Sex\":\"Sexo\", \"Age\":\"Idade\", \"Fare\":\"Tarifa\", \"Cabin\":\"Cabine\", \"Embarked\":\"Embacou\"})#troca os nomes das colunas em ingles para portugues\n",
    "\n",
    "print(titanic.head(10))#printa com as colunas com nome trocado\n",
    "\n",
    "titanic['Sexo'] = titanic['Sexo'].replace(['male','female'],['masculino','FEMININO'])#altera os valors male e flame das colunas\n",
    "\n",
    "print(titanic.head(10))#printa com a tradução dos sexos\n",
    "\n",
    "sobrevivente_class = titanic.groupby(['Classe_P','Sobrevivente'])['Sobrevive'].count()#agrpa classe por sobrevivente\n",
    "\n",
    "print(sobrevivente_class.head(10))#printa o numero de sobreviventes por classe\n",
    "\n",
    "sobrevivente_sexo = titanic.groupby(['Sexo','Sobrevivente'])['Sexo'].count()#agrupa sexo com sobrevivente\n",
    "\n",
    "print(sobrevivente_sexo.head(10))#printa o numero de sobrevidentes por sexo\n",
    "\n",
    "sobrevivente_class.plot(kind = 'pie')#monta o gráfico em pizza\n",
    "plt.show()\n",
    "\n",
    "titanic.to_excel('titanic.xlsx',index = None, header=True)#convertendo csv para o arquivo xlsx\n"
   ]
  }
 ],
 "metadata": {
  "interpreter": {
   "hash": "e7370f93d1d0cde622a1f8e1c04877d8463912d04d973331ad4851f04de6915a"
  },
  "kernelspec": {
   "display_name": "Python 3.9.7 64-bit",
   "language": "python",
   "name": "python3"
  },
  "language_info": {
   "codemirror_mode": {
    "name": "ipython",
    "version": 3
   },
   "file_extension": ".py",
   "mimetype": "text/x-python",
   "name": "python",
   "nbconvert_exporter": "python",
   "pygments_lexer": "ipython3",
   "version": "3.9.9"
  },
  "orig_nbformat": 4
 },
 "nbformat": 4,
 "nbformat_minor": 2
}
